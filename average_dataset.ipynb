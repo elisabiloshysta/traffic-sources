{
 "cells": [
  {
   "cell_type": "code",
   "execution_count": 2,
   "metadata": {
    "id": "ObQ8ZSz53h2F"
   },
   "outputs": [],
   "source": [
    "import pandas as pd\n",
    "import numpy as np"
   ]
  },
  {
   "cell_type": "code",
   "execution_count": 3,
   "metadata": {
    "id": "xRya1OTq4xXK"
   },
   "outputs": [],
   "source": [
    "april_df = pd.read_csv(\"april.csv\")\n",
    "may_df = pd.read_csv(\"may.csv\")\n",
    "average_df = pd.read_csv(\"average.csv\")"
   ]
  },
  {
   "cell_type": "code",
   "execution_count": 5,
   "metadata": {},
   "outputs": [
    {
     "data": {
      "text/html": [
       "<div>\n",
       "<style scoped>\n",
       "    .dataframe tbody tr th:only-of-type {\n",
       "        vertical-align: middle;\n",
       "    }\n",
       "\n",
       "    .dataframe tbody tr th {\n",
       "        vertical-align: top;\n",
       "    }\n",
       "\n",
       "    .dataframe thead th {\n",
       "        text-align: right;\n",
       "    }\n",
       "</style>\n",
       "<table border=\"1\" class=\"dataframe\">\n",
       "  <thead>\n",
       "    <tr style=\"text-align: right;\">\n",
       "      <th></th>\n",
       "      <th>Publisher</th>\n",
       "      <th>Installs</th>\n",
       "      <th>LTV</th>\n",
       "    </tr>\n",
       "  </thead>\n",
       "  <tbody>\n",
       "    <tr>\n",
       "      <th>0</th>\n",
       "      <td>1aa97</td>\n",
       "      <td>297.5</td>\n",
       "      <td>0.51</td>\n",
       "    </tr>\n",
       "    <tr>\n",
       "      <th>1</th>\n",
       "      <td>79396</td>\n",
       "      <td>458.0</td>\n",
       "      <td>0.91</td>\n",
       "    </tr>\n",
       "    <tr>\n",
       "      <th>2</th>\n",
       "      <td>674b3</td>\n",
       "      <td>301.5</td>\n",
       "      <td>2.70</td>\n",
       "    </tr>\n",
       "    <tr>\n",
       "      <th>3</th>\n",
       "      <td>cc322</td>\n",
       "      <td>479.5</td>\n",
       "      <td>3.02</td>\n",
       "    </tr>\n",
       "    <tr>\n",
       "      <th>4</th>\n",
       "      <td>636df</td>\n",
       "      <td>190.5</td>\n",
       "      <td>3.42</td>\n",
       "    </tr>\n",
       "    <tr>\n",
       "      <th>5</th>\n",
       "      <td>59c47</td>\n",
       "      <td>240.0</td>\n",
       "      <td>5.15</td>\n",
       "    </tr>\n",
       "    <tr>\n",
       "      <th>6</th>\n",
       "      <td>9b91e</td>\n",
       "      <td>189.5</td>\n",
       "      <td>5.61</td>\n",
       "    </tr>\n",
       "    <tr>\n",
       "      <th>7</th>\n",
       "      <td>9f642</td>\n",
       "      <td>124.5</td>\n",
       "      <td>6.42</td>\n",
       "    </tr>\n",
       "    <tr>\n",
       "      <th>8</th>\n",
       "      <td>afb54</td>\n",
       "      <td>168.5</td>\n",
       "      <td>7.50</td>\n",
       "    </tr>\n",
       "    <tr>\n",
       "      <th>9</th>\n",
       "      <td>ce762</td>\n",
       "      <td>457.5</td>\n",
       "      <td>7.81</td>\n",
       "    </tr>\n",
       "    <tr>\n",
       "      <th>10</th>\n",
       "      <td>b6f41</td>\n",
       "      <td>179.5</td>\n",
       "      <td>8.75</td>\n",
       "    </tr>\n",
       "    <tr>\n",
       "      <th>11</th>\n",
       "      <td>669d9</td>\n",
       "      <td>263.5</td>\n",
       "      <td>11.97</td>\n",
       "    </tr>\n",
       "    <tr>\n",
       "      <th>12</th>\n",
       "      <td>e2f5b</td>\n",
       "      <td>241.5</td>\n",
       "      <td>11.99</td>\n",
       "    </tr>\n",
       "    <tr>\n",
       "      <th>13</th>\n",
       "      <td>105c4</td>\n",
       "      <td>654.0</td>\n",
       "      <td>12.55</td>\n",
       "    </tr>\n",
       "    <tr>\n",
       "      <th>14</th>\n",
       "      <td>c1e43</td>\n",
       "      <td>280.0</td>\n",
       "      <td>16.72</td>\n",
       "    </tr>\n",
       "    <tr>\n",
       "      <th>15</th>\n",
       "      <td>dc213</td>\n",
       "      <td>366.5</td>\n",
       "      <td>17.02</td>\n",
       "    </tr>\n",
       "    <tr>\n",
       "      <th>16</th>\n",
       "      <td>19ad3</td>\n",
       "      <td>306.0</td>\n",
       "      <td>19.88</td>\n",
       "    </tr>\n",
       "    <tr>\n",
       "      <th>17</th>\n",
       "      <td>8e0fd</td>\n",
       "      <td>294.5</td>\n",
       "      <td>21.36</td>\n",
       "    </tr>\n",
       "    <tr>\n",
       "      <th>18</th>\n",
       "      <td>2f92d</td>\n",
       "      <td>83.0</td>\n",
       "      <td>31.34</td>\n",
       "    </tr>\n",
       "  </tbody>\n",
       "</table>\n",
       "</div>"
      ],
      "text/plain": [
       "   Publisher  Installs    LTV\n",
       "0      1aa97     297.5   0.51\n",
       "1      79396     458.0   0.91\n",
       "2      674b3     301.5   2.70\n",
       "3      cc322     479.5   3.02\n",
       "4      636df     190.5   3.42\n",
       "5      59c47     240.0   5.15\n",
       "6      9b91e     189.5   5.61\n",
       "7      9f642     124.5   6.42\n",
       "8      afb54     168.5   7.50\n",
       "9      ce762     457.5   7.81\n",
       "10     b6f41     179.5   8.75\n",
       "11     669d9     263.5  11.97\n",
       "12     e2f5b     241.5  11.99\n",
       "13     105c4     654.0  12.55\n",
       "14     c1e43     280.0  16.72\n",
       "15     dc213     366.5  17.02\n",
       "16     19ad3     306.0  19.88\n",
       "17     8e0fd     294.5  21.36\n",
       "18     2f92d      83.0  31.34"
      ]
     },
     "execution_count": 5,
     "metadata": {},
     "output_type": "execute_result"
    }
   ],
   "source": [
    "average_df"
   ]
  },
  {
   "cell_type": "code",
   "execution_count": 5,
   "metadata": {
    "colab": {
     "base_uri": "https://localhost:8080/",
     "height": 645
    },
    "id": "VDPxU9eR5Dnn",
    "outputId": "fe02816e-fd51-4d5c-8ee2-43f41c84f2bc"
   },
   "outputs": [],
   "source": [
    "#april_df[\"LTV\"] = april_df[\"LTV\"].apply(lambda x: x.replace(\"$\", \"\"))\n",
    "#april_df"
   ]
  },
  {
   "cell_type": "code",
   "execution_count": 6,
   "metadata": {
    "colab": {
     "base_uri": "https://localhost:8080/",
     "height": 645
    },
    "id": "AR4Jv7Fb5U8c",
    "outputId": "73923dac-bbca-412d-c4fb-9c5b3398839c"
   },
   "outputs": [
    {
     "data": {
      "text/html": [
       "<div>\n",
       "<style scoped>\n",
       "    .dataframe tbody tr th:only-of-type {\n",
       "        vertical-align: middle;\n",
       "    }\n",
       "\n",
       "    .dataframe tbody tr th {\n",
       "        vertical-align: top;\n",
       "    }\n",
       "\n",
       "    .dataframe thead th {\n",
       "        text-align: right;\n",
       "    }\n",
       "</style>\n",
       "<table border=\"1\" class=\"dataframe\">\n",
       "  <thead>\n",
       "    <tr style=\"text-align: right;\">\n",
       "      <th></th>\n",
       "      <th>Publisher</th>\n",
       "      <th>Installs</th>\n",
       "      <th>LTV</th>\n",
       "      <th>K</th>\n",
       "    </tr>\n",
       "  </thead>\n",
       "  <tbody>\n",
       "    <tr>\n",
       "      <th>0</th>\n",
       "      <td>1aa97</td>\n",
       "      <td>297.5</td>\n",
       "      <td>0.51</td>\n",
       "      <td>74.375</td>\n",
       "    </tr>\n",
       "    <tr>\n",
       "      <th>1</th>\n",
       "      <td>79396</td>\n",
       "      <td>458.0</td>\n",
       "      <td>0.91</td>\n",
       "      <td>114.500</td>\n",
       "    </tr>\n",
       "    <tr>\n",
       "      <th>2</th>\n",
       "      <td>674b3</td>\n",
       "      <td>301.5</td>\n",
       "      <td>2.70</td>\n",
       "      <td>75.375</td>\n",
       "    </tr>\n",
       "    <tr>\n",
       "      <th>3</th>\n",
       "      <td>cc322</td>\n",
       "      <td>479.5</td>\n",
       "      <td>3.02</td>\n",
       "      <td>119.875</td>\n",
       "    </tr>\n",
       "    <tr>\n",
       "      <th>4</th>\n",
       "      <td>636df</td>\n",
       "      <td>190.5</td>\n",
       "      <td>3.42</td>\n",
       "      <td>47.625</td>\n",
       "    </tr>\n",
       "    <tr>\n",
       "      <th>5</th>\n",
       "      <td>59c47</td>\n",
       "      <td>240.0</td>\n",
       "      <td>5.15</td>\n",
       "      <td>60.000</td>\n",
       "    </tr>\n",
       "    <tr>\n",
       "      <th>6</th>\n",
       "      <td>9b91e</td>\n",
       "      <td>189.5</td>\n",
       "      <td>5.61</td>\n",
       "      <td>47.375</td>\n",
       "    </tr>\n",
       "    <tr>\n",
       "      <th>7</th>\n",
       "      <td>9f642</td>\n",
       "      <td>124.5</td>\n",
       "      <td>6.42</td>\n",
       "      <td>31.125</td>\n",
       "    </tr>\n",
       "    <tr>\n",
       "      <th>8</th>\n",
       "      <td>afb54</td>\n",
       "      <td>168.5</td>\n",
       "      <td>7.50</td>\n",
       "      <td>42.125</td>\n",
       "    </tr>\n",
       "    <tr>\n",
       "      <th>9</th>\n",
       "      <td>ce762</td>\n",
       "      <td>457.5</td>\n",
       "      <td>7.81</td>\n",
       "      <td>114.375</td>\n",
       "    </tr>\n",
       "    <tr>\n",
       "      <th>10</th>\n",
       "      <td>b6f41</td>\n",
       "      <td>179.5</td>\n",
       "      <td>8.75</td>\n",
       "      <td>44.875</td>\n",
       "    </tr>\n",
       "    <tr>\n",
       "      <th>11</th>\n",
       "      <td>669d9</td>\n",
       "      <td>263.5</td>\n",
       "      <td>11.97</td>\n",
       "      <td>65.875</td>\n",
       "    </tr>\n",
       "    <tr>\n",
       "      <th>12</th>\n",
       "      <td>e2f5b</td>\n",
       "      <td>241.5</td>\n",
       "      <td>11.99</td>\n",
       "      <td>60.375</td>\n",
       "    </tr>\n",
       "    <tr>\n",
       "      <th>13</th>\n",
       "      <td>105c4</td>\n",
       "      <td>654.0</td>\n",
       "      <td>12.55</td>\n",
       "      <td>163.500</td>\n",
       "    </tr>\n",
       "    <tr>\n",
       "      <th>14</th>\n",
       "      <td>c1e43</td>\n",
       "      <td>280.0</td>\n",
       "      <td>16.72</td>\n",
       "      <td>70.000</td>\n",
       "    </tr>\n",
       "    <tr>\n",
       "      <th>15</th>\n",
       "      <td>dc213</td>\n",
       "      <td>366.5</td>\n",
       "      <td>17.02</td>\n",
       "      <td>91.625</td>\n",
       "    </tr>\n",
       "    <tr>\n",
       "      <th>16</th>\n",
       "      <td>19ad3</td>\n",
       "      <td>306.0</td>\n",
       "      <td>19.88</td>\n",
       "      <td>76.500</td>\n",
       "    </tr>\n",
       "    <tr>\n",
       "      <th>17</th>\n",
       "      <td>8e0fd</td>\n",
       "      <td>294.5</td>\n",
       "      <td>21.36</td>\n",
       "      <td>73.625</td>\n",
       "    </tr>\n",
       "    <tr>\n",
       "      <th>18</th>\n",
       "      <td>2f92d</td>\n",
       "      <td>83.0</td>\n",
       "      <td>31.34</td>\n",
       "      <td>20.750</td>\n",
       "    </tr>\n",
       "  </tbody>\n",
       "</table>\n",
       "</div>"
      ],
      "text/plain": [
       "   Publisher  Installs    LTV        K\n",
       "0      1aa97     297.5   0.51   74.375\n",
       "1      79396     458.0   0.91  114.500\n",
       "2      674b3     301.5   2.70   75.375\n",
       "3      cc322     479.5   3.02  119.875\n",
       "4      636df     190.5   3.42   47.625\n",
       "5      59c47     240.0   5.15   60.000\n",
       "6      9b91e     189.5   5.61   47.375\n",
       "7      9f642     124.5   6.42   31.125\n",
       "8      afb54     168.5   7.50   42.125\n",
       "9      ce762     457.5   7.81  114.375\n",
       "10     b6f41     179.5   8.75   44.875\n",
       "11     669d9     263.5  11.97   65.875\n",
       "12     e2f5b     241.5  11.99   60.375\n",
       "13     105c4     654.0  12.55  163.500\n",
       "14     c1e43     280.0  16.72   70.000\n",
       "15     dc213     366.5  17.02   91.625\n",
       "16     19ad3     306.0  19.88   76.500\n",
       "17     8e0fd     294.5  21.36   73.625\n",
       "18     2f92d      83.0  31.34   20.750"
      ]
     },
     "execution_count": 6,
     "metadata": {},
     "output_type": "execute_result"
    }
   ],
   "source": [
    "average_df[\"LTV\"] = average_df[\"LTV\"].apply(float)\n",
    "average_df[\"K\"] = average_df[\"Installs\"] / 4 #4 is our CPI\n",
    "average_df"
   ]
  },
  {
   "cell_type": "code",
   "execution_count": 7,
   "metadata": {
    "colab": {
     "base_uri": "https://localhost:8080/",
     "height": 482
    },
    "id": "tRPGAvhW89sa",
    "outputId": "559792e9-0beb-4c9f-f772-41b73587aafd"
   },
   "outputs": [
    {
     "data": {
      "text/plain": [
       "<AxesSubplot:xlabel='Publisher', ylabel='LTV'>"
      ]
     },
     "execution_count": 7,
     "metadata": {},
     "output_type": "execute_result"
    },
    {
     "data": {
      "image/png": "[encoded data removed]",
      "text/plain": [
       "<Figure size 1008x360 with 1 Axes>"
      ]
     },
     "metadata": {
      "needs_background": "light"
     },
     "output_type": "display_data"
    }
   ],
   "source": [
    "\n",
    "import seaborn as sns\n",
    "import matplotlib.pyplot as plt\n",
    "\n",
    "plt.figure(figsize=(14, 5))\n",
    "sns.barplot(data = average_df.sort_values('LTV'), x = 'Publisher', y = 'LTV')"
   ]
  },
  {
   "cell_type": "code",
   "execution_count": null,
   "metadata": {
    "id": "lm7ZtTpr50cu"
   },
   "outputs": [],
   "source": [
    "# from sklearn.cluster import KMeans\n",
    "\n",
    "# kmeans = KMeans(n_clusters = 3, random_state = 0, n_init='auto')\n",
    "# model = kmeans.fit(april_df[[\"LTV\"]])\n",
    "\n",
    "# labels = model.fit_predict(april_df[[\"LTV\"]])\n",
    "# df_with_labels = april_df\n",
    "# df_with_labels[\"label\"] = labels\n",
    "\n",
    "# df_with_labels"
   ]
  },
  {
   "cell_type": "code",
   "execution_count": null,
   "metadata": {
    "id": "6Go_K_yxDzPM"
   },
   "outputs": [],
   "source": []
  },
  {
   "cell_type": "code",
   "execution_count": null,
   "metadata": {
    "id": "oeeYZeEC8852"
   },
   "outputs": [],
   "source": [
    "# #Getting unique labels\n",
    "\n",
    "# u_labels = np.unique(label)\n",
    "\n",
    "# ddf = df_with_labels[[\"LTV\", \"label\"]]\n",
    "# ddf[\"day\"] = 1\n",
    "# sns.catplot(data=ddf, kind=\"swarm\", x=\"day\", y=\"LTV\", hue=\"label\")\n",
    "\n",
    "\n",
    "\n",
    "# # for i in u_labels:\n",
    "# #     df_i = df_with_labels[df_with_labels[\"label\"] == i][[\"Publisher\", \"LTV\", \"label\"]]\n",
    "# #     plt.scatter(df_with_labels[label == i , 0] , df_with_labels[label == i , 1] , label = i)\n",
    "# # plt.legend()\n",
    "# # plt.show()"
   ]
  },
  {
   "cell_type": "code",
   "execution_count": 8,
   "metadata": {
    "colab": {
     "base_uri": "https://localhost:8080/"
    },
    "id": "n86vt_UlEMca",
    "outputId": "a934db30-55d4-4abd-eeda-4e55e4aad2d7"
   },
   "outputs": [
    {
     "name": "stdout",
     "output_type": "stream",
     "text": [
      "Defaulting to user installation because normal site-packages is not writeable\n",
      "Requirement already satisfied: k-means-constrained in ./.local/lib/python3.10/site-packages (0.7.3)\n",
      "Requirement already satisfied: numpy>=1.23.0 in ./.local/lib/python3.10/site-packages (from k-means-constrained) (1.25.0)\n",
      "Requirement already satisfied: six in /usr/lib/python3/dist-packages (from k-means-constrained) (1.16.0)\n",
      "Requirement already satisfied: joblib in ./.local/lib/python3.10/site-packages (from k-means-constrained) (1.2.0)\n",
      "Requirement already satisfied: ortools>=9.4.1874 in ./.local/lib/python3.10/site-packages (from k-means-constrained) (9.6.2534)\n",
      "Requirement already satisfied: scipy>=1.6.3 in ./.local/lib/python3.10/site-packages (from k-means-constrained) (1.11.1)\n",
      "Requirement already satisfied: protobuf>=4.21.12 in ./.local/lib/python3.10/site-packages (from ortools>=9.4.1874->k-means-constrained) (4.23.3)\n",
      "Requirement already satisfied: absl-py>=0.13 in ./.local/lib/python3.10/site-packages (from ortools>=9.4.1874->k-means-constrained) (1.4.0)\n",
      "\n",
      "\u001b[1m[\u001b[0m\u001b[34;49mnotice\u001b[0m\u001b[1;39;49m]\u001b[0m\u001b[39;49m A new release of pip is available: \u001b[0m\u001b[31;49m23.0.1\u001b[0m\u001b[39;49m -> \u001b[0m\u001b[32;49m23.1.2\u001b[0m\n",
      "\u001b[1m[\u001b[0m\u001b[34;49mnotice\u001b[0m\u001b[1;39;49m]\u001b[0m\u001b[39;49m To update, run: \u001b[0m\u001b[32;49mpython3 -m pip install --upgrade pip\u001b[0m\n"
     ]
    }
   ],
   "source": [
    "!pip install k-means-constrained"
   ]
  },
  {
   "cell_type": "code",
   "execution_count": 9,
   "metadata": {
    "id": "6EN9BTX3Dz1I"
   },
   "outputs": [],
   "source": [
    "from k_means_constrained import KMeansConstrained\n",
    "\n",
    "def clusterize(df, num_clusters):\n",
    "\n",
    "  clf = KMeansConstrained(\n",
    "      n_clusters=num_clusters,\n",
    "      size_min=5,\n",
    "      random_state=0\n",
    "  )\n",
    "  df_with_labels = df\n",
    "\n",
    "  model = clf.fit(df[[\"LTV\"]])\n",
    "\n",
    "  # labels = clf.fit_predict(april_df[[\"LTV\"]])\n",
    "  df_with_labels[\"label\"] = clf.fit_predict(average_df[[\"LTV\"]])\n",
    "\n",
    "  ddf = df_with_labels[[\"LTV\", \"label\"]]\n",
    "  ddf[\"day\"] = 1\n",
    "  sns.catplot(data=ddf, kind=\"swarm\", x=\"day\", y=\"LTV\", hue=\"label\")\n",
    "\n",
    "\n",
    "  return df_with_labels"
   ]
  },
  {
   "cell_type": "code",
   "execution_count": 10,
   "metadata": {
    "colab": {
     "base_uri": "https://localhost:8080/",
     "height": 1000
    },
    "id": "rnQFt4_mFgk6",
    "outputId": "192bfd1b-1c47-4728-fcdf-ed3ebac481ba"
   },
   "outputs": [
    {
     "name": "stderr",
     "output_type": "stream",
     "text": [
      "/tmp/ipykernel_237927/219493551.py:18: SettingWithCopyWarning: \n",
      "A value is trying to be set on a copy of a slice from a DataFrame.\n",
      "Try using .loc[row_indexer,col_indexer] = value instead\n",
      "\n",
      "See the caveats in the documentation: https://pandas.pydata.org/pandas-docs/stable/user_guide/indexing.html#returning-a-view-versus-a-copy\n",
      "  ddf[\"day\"] = 1\n"
     ]
    },
    {
     "data": {
      "text/html": [
       "<div>\n",
       "<style scoped>\n",
       "    .dataframe tbody tr th:only-of-type {\n",
       "        vertical-align: middle;\n",
       "    }\n",
       "\n",
       "    .dataframe tbody tr th {\n",
       "        vertical-align: top;\n",
       "    }\n",
       "\n",
       "    .dataframe thead th {\n",
       "        text-align: right;\n",
       "    }\n",
       "</style>\n",
       "<table border=\"1\" class=\"dataframe\">\n",
       "  <thead>\n",
       "    <tr style=\"text-align: right;\">\n",
       "      <th></th>\n",
       "      <th>Publisher</th>\n",
       "      <th>Installs</th>\n",
       "      <th>LTV</th>\n",
       "      <th>K</th>\n",
       "      <th>label</th>\n",
       "    </tr>\n",
       "  </thead>\n",
       "  <tbody>\n",
       "    <tr>\n",
       "      <th>0</th>\n",
       "      <td>1aa97</td>\n",
       "      <td>297.5</td>\n",
       "      <td>0.51</td>\n",
       "      <td>74.375</td>\n",
       "      <td>0</td>\n",
       "    </tr>\n",
       "    <tr>\n",
       "      <th>1</th>\n",
       "      <td>79396</td>\n",
       "      <td>458.0</td>\n",
       "      <td>0.91</td>\n",
       "      <td>114.500</td>\n",
       "      <td>0</td>\n",
       "    </tr>\n",
       "    <tr>\n",
       "      <th>2</th>\n",
       "      <td>674b3</td>\n",
       "      <td>301.5</td>\n",
       "      <td>2.70</td>\n",
       "      <td>75.375</td>\n",
       "      <td>0</td>\n",
       "    </tr>\n",
       "    <tr>\n",
       "      <th>3</th>\n",
       "      <td>cc322</td>\n",
       "      <td>479.5</td>\n",
       "      <td>3.02</td>\n",
       "      <td>119.875</td>\n",
       "      <td>0</td>\n",
       "    </tr>\n",
       "    <tr>\n",
       "      <th>4</th>\n",
       "      <td>636df</td>\n",
       "      <td>190.5</td>\n",
       "      <td>3.42</td>\n",
       "      <td>47.625</td>\n",
       "      <td>0</td>\n",
       "    </tr>\n",
       "    <tr>\n",
       "      <th>5</th>\n",
       "      <td>59c47</td>\n",
       "      <td>240.0</td>\n",
       "      <td>5.15</td>\n",
       "      <td>60.000</td>\n",
       "      <td>0</td>\n",
       "    </tr>\n",
       "    <tr>\n",
       "      <th>6</th>\n",
       "      <td>9b91e</td>\n",
       "      <td>189.5</td>\n",
       "      <td>5.61</td>\n",
       "      <td>47.375</td>\n",
       "      <td>0</td>\n",
       "    </tr>\n",
       "    <tr>\n",
       "      <th>7</th>\n",
       "      <td>9f642</td>\n",
       "      <td>124.5</td>\n",
       "      <td>6.42</td>\n",
       "      <td>31.125</td>\n",
       "      <td>0</td>\n",
       "    </tr>\n",
       "    <tr>\n",
       "      <th>8</th>\n",
       "      <td>afb54</td>\n",
       "      <td>168.5</td>\n",
       "      <td>7.50</td>\n",
       "      <td>42.125</td>\n",
       "      <td>0</td>\n",
       "    </tr>\n",
       "    <tr>\n",
       "      <th>9</th>\n",
       "      <td>ce762</td>\n",
       "      <td>457.5</td>\n",
       "      <td>7.81</td>\n",
       "      <td>114.375</td>\n",
       "      <td>0</td>\n",
       "    </tr>\n",
       "    <tr>\n",
       "      <th>10</th>\n",
       "      <td>b6f41</td>\n",
       "      <td>179.5</td>\n",
       "      <td>8.75</td>\n",
       "      <td>44.875</td>\n",
       "      <td>0</td>\n",
       "    </tr>\n",
       "    <tr>\n",
       "      <th>11</th>\n",
       "      <td>669d9</td>\n",
       "      <td>263.5</td>\n",
       "      <td>11.97</td>\n",
       "      <td>65.875</td>\n",
       "      <td>0</td>\n",
       "    </tr>\n",
       "    <tr>\n",
       "      <th>12</th>\n",
       "      <td>e2f5b</td>\n",
       "      <td>241.5</td>\n",
       "      <td>11.99</td>\n",
       "      <td>60.375</td>\n",
       "      <td>0</td>\n",
       "    </tr>\n",
       "    <tr>\n",
       "      <th>13</th>\n",
       "      <td>105c4</td>\n",
       "      <td>654.0</td>\n",
       "      <td>12.55</td>\n",
       "      <td>163.500</td>\n",
       "      <td>0</td>\n",
       "    </tr>\n",
       "    <tr>\n",
       "      <th>14</th>\n",
       "      <td>c1e43</td>\n",
       "      <td>280.0</td>\n",
       "      <td>16.72</td>\n",
       "      <td>70.000</td>\n",
       "      <td>0</td>\n",
       "    </tr>\n",
       "    <tr>\n",
       "      <th>15</th>\n",
       "      <td>dc213</td>\n",
       "      <td>366.5</td>\n",
       "      <td>17.02</td>\n",
       "      <td>91.625</td>\n",
       "      <td>0</td>\n",
       "    </tr>\n",
       "    <tr>\n",
       "      <th>16</th>\n",
       "      <td>19ad3</td>\n",
       "      <td>306.0</td>\n",
       "      <td>19.88</td>\n",
       "      <td>76.500</td>\n",
       "      <td>0</td>\n",
       "    </tr>\n",
       "    <tr>\n",
       "      <th>17</th>\n",
       "      <td>8e0fd</td>\n",
       "      <td>294.5</td>\n",
       "      <td>21.36</td>\n",
       "      <td>73.625</td>\n",
       "      <td>0</td>\n",
       "    </tr>\n",
       "    <tr>\n",
       "      <th>18</th>\n",
       "      <td>2f92d</td>\n",
       "      <td>83.0</td>\n",
       "      <td>31.34</td>\n",
       "      <td>20.750</td>\n",
       "      <td>0</td>\n",
       "    </tr>\n",
       "  </tbody>\n",
       "</table>\n",
       "</div>"
      ],
      "text/plain": [
       "   Publisher  Installs    LTV        K  label\n",
       "0      1aa97     297.5   0.51   74.375      0\n",
       "1      79396     458.0   0.91  114.500      0\n",
       "2      674b3     301.5   2.70   75.375      0\n",
       "3      cc322     479.5   3.02  119.875      0\n",
       "4      636df     190.5   3.42   47.625      0\n",
       "5      59c47     240.0   5.15   60.000      0\n",
       "6      9b91e     189.5   5.61   47.375      0\n",
       "7      9f642     124.5   6.42   31.125      0\n",
       "8      afb54     168.5   7.50   42.125      0\n",
       "9      ce762     457.5   7.81  114.375      0\n",
       "10     b6f41     179.5   8.75   44.875      0\n",
       "11     669d9     263.5  11.97   65.875      0\n",
       "12     e2f5b     241.5  11.99   60.375      0\n",
       "13     105c4     654.0  12.55  163.500      0\n",
       "14     c1e43     280.0  16.72   70.000      0\n",
       "15     dc213     366.5  17.02   91.625      0\n",
       "16     19ad3     306.0  19.88   76.500      0\n",
       "17     8e0fd     294.5  21.36   73.625      0\n",
       "18     2f92d      83.0  31.34   20.750      0"
      ]
     },
     "execution_count": 10,
     "metadata": {},
     "output_type": "execute_result"
    },
    {
     "data": {
      "image/png": "[encoded data removed]",
      "text/plain": [
       "<Figure size 402.375x360 with 1 Axes>"
      ]
     },
     "metadata": {
      "needs_background": "light"
     },
     "output_type": "display_data"
    }
   ],
   "source": [
    "clusterize(average_df, 1)"
   ]
  },
  {
   "cell_type": "code",
   "execution_count": 11,
   "metadata": {
    "colab": {
     "base_uri": "https://localhost:8080/",
     "height": 1000
    },
    "id": "cqSbWAeOFdrR",
    "outputId": "e94234e5-b0f0-45b4-8fb1-336c415c20f4"
   },
   "outputs": [
    {
     "name": "stderr",
     "output_type": "stream",
     "text": [
      "/tmp/ipykernel_237927/219493551.py:18: SettingWithCopyWarning: \n",
      "A value is trying to be set on a copy of a slice from a DataFrame.\n",
      "Try using .loc[row_indexer,col_indexer] = value instead\n",
      "\n",
      "See the caveats in the documentation: https://pandas.pydata.org/pandas-docs/stable/user_guide/indexing.html#returning-a-view-versus-a-copy\n",
      "  ddf[\"day\"] = 1\n"
     ]
    },
    {
     "data": {
      "text/html": [
       "<div>\n",
       "<style scoped>\n",
       "    .dataframe tbody tr th:only-of-type {\n",
       "        vertical-align: middle;\n",
       "    }\n",
       "\n",
       "    .dataframe tbody tr th {\n",
       "        vertical-align: top;\n",
       "    }\n",
       "\n",
       "    .dataframe thead th {\n",
       "        text-align: right;\n",
       "    }\n",
       "</style>\n",
       "<table border=\"1\" class=\"dataframe\">\n",
       "  <thead>\n",
       "    <tr style=\"text-align: right;\">\n",
       "      <th></th>\n",
       "      <th>Publisher</th>\n",
       "      <th>Installs</th>\n",
       "      <th>LTV</th>\n",
       "      <th>K</th>\n",
       "      <th>label</th>\n",
       "    </tr>\n",
       "  </thead>\n",
       "  <tbody>\n",
       "    <tr>\n",
       "      <th>0</th>\n",
       "      <td>1aa97</td>\n",
       "      <td>297.5</td>\n",
       "      <td>0.51</td>\n",
       "      <td>74.375</td>\n",
       "      <td>0</td>\n",
       "    </tr>\n",
       "    <tr>\n",
       "      <th>1</th>\n",
       "      <td>79396</td>\n",
       "      <td>458.0</td>\n",
       "      <td>0.91</td>\n",
       "      <td>114.500</td>\n",
       "      <td>0</td>\n",
       "    </tr>\n",
       "    <tr>\n",
       "      <th>2</th>\n",
       "      <td>674b3</td>\n",
       "      <td>301.5</td>\n",
       "      <td>2.70</td>\n",
       "      <td>75.375</td>\n",
       "      <td>0</td>\n",
       "    </tr>\n",
       "    <tr>\n",
       "      <th>3</th>\n",
       "      <td>cc322</td>\n",
       "      <td>479.5</td>\n",
       "      <td>3.02</td>\n",
       "      <td>119.875</td>\n",
       "      <td>0</td>\n",
       "    </tr>\n",
       "    <tr>\n",
       "      <th>4</th>\n",
       "      <td>636df</td>\n",
       "      <td>190.5</td>\n",
       "      <td>3.42</td>\n",
       "      <td>47.625</td>\n",
       "      <td>0</td>\n",
       "    </tr>\n",
       "    <tr>\n",
       "      <th>5</th>\n",
       "      <td>59c47</td>\n",
       "      <td>240.0</td>\n",
       "      <td>5.15</td>\n",
       "      <td>60.000</td>\n",
       "      <td>0</td>\n",
       "    </tr>\n",
       "    <tr>\n",
       "      <th>6</th>\n",
       "      <td>9b91e</td>\n",
       "      <td>189.5</td>\n",
       "      <td>5.61</td>\n",
       "      <td>47.375</td>\n",
       "      <td>0</td>\n",
       "    </tr>\n",
       "    <tr>\n",
       "      <th>7</th>\n",
       "      <td>9f642</td>\n",
       "      <td>124.5</td>\n",
       "      <td>6.42</td>\n",
       "      <td>31.125</td>\n",
       "      <td>0</td>\n",
       "    </tr>\n",
       "    <tr>\n",
       "      <th>8</th>\n",
       "      <td>afb54</td>\n",
       "      <td>168.5</td>\n",
       "      <td>7.50</td>\n",
       "      <td>42.125</td>\n",
       "      <td>0</td>\n",
       "    </tr>\n",
       "    <tr>\n",
       "      <th>9</th>\n",
       "      <td>ce762</td>\n",
       "      <td>457.5</td>\n",
       "      <td>7.81</td>\n",
       "      <td>114.375</td>\n",
       "      <td>0</td>\n",
       "    </tr>\n",
       "    <tr>\n",
       "      <th>10</th>\n",
       "      <td>b6f41</td>\n",
       "      <td>179.5</td>\n",
       "      <td>8.75</td>\n",
       "      <td>44.875</td>\n",
       "      <td>0</td>\n",
       "    </tr>\n",
       "    <tr>\n",
       "      <th>11</th>\n",
       "      <td>669d9</td>\n",
       "      <td>263.5</td>\n",
       "      <td>11.97</td>\n",
       "      <td>65.875</td>\n",
       "      <td>0</td>\n",
       "    </tr>\n",
       "    <tr>\n",
       "      <th>12</th>\n",
       "      <td>e2f5b</td>\n",
       "      <td>241.5</td>\n",
       "      <td>11.99</td>\n",
       "      <td>60.375</td>\n",
       "      <td>0</td>\n",
       "    </tr>\n",
       "    <tr>\n",
       "      <th>13</th>\n",
       "      <td>105c4</td>\n",
       "      <td>654.0</td>\n",
       "      <td>12.55</td>\n",
       "      <td>163.500</td>\n",
       "      <td>0</td>\n",
       "    </tr>\n",
       "    <tr>\n",
       "      <th>14</th>\n",
       "      <td>c1e43</td>\n",
       "      <td>280.0</td>\n",
       "      <td>16.72</td>\n",
       "      <td>70.000</td>\n",
       "      <td>1</td>\n",
       "    </tr>\n",
       "    <tr>\n",
       "      <th>15</th>\n",
       "      <td>dc213</td>\n",
       "      <td>366.5</td>\n",
       "      <td>17.02</td>\n",
       "      <td>91.625</td>\n",
       "      <td>1</td>\n",
       "    </tr>\n",
       "    <tr>\n",
       "      <th>16</th>\n",
       "      <td>19ad3</td>\n",
       "      <td>306.0</td>\n",
       "      <td>19.88</td>\n",
       "      <td>76.500</td>\n",
       "      <td>1</td>\n",
       "    </tr>\n",
       "    <tr>\n",
       "      <th>17</th>\n",
       "      <td>8e0fd</td>\n",
       "      <td>294.5</td>\n",
       "      <td>21.36</td>\n",
       "      <td>73.625</td>\n",
       "      <td>1</td>\n",
       "    </tr>\n",
       "    <tr>\n",
       "      <th>18</th>\n",
       "      <td>2f92d</td>\n",
       "      <td>83.0</td>\n",
       "      <td>31.34</td>\n",
       "      <td>20.750</td>\n",
       "      <td>1</td>\n",
       "    </tr>\n",
       "  </tbody>\n",
       "</table>\n",
       "</div>"
      ],
      "text/plain": [
       "   Publisher  Installs    LTV        K  label\n",
       "0      1aa97     297.5   0.51   74.375      0\n",
       "1      79396     458.0   0.91  114.500      0\n",
       "2      674b3     301.5   2.70   75.375      0\n",
       "3      cc322     479.5   3.02  119.875      0\n",
       "4      636df     190.5   3.42   47.625      0\n",
       "5      59c47     240.0   5.15   60.000      0\n",
       "6      9b91e     189.5   5.61   47.375      0\n",
       "7      9f642     124.5   6.42   31.125      0\n",
       "8      afb54     168.5   7.50   42.125      0\n",
       "9      ce762     457.5   7.81  114.375      0\n",
       "10     b6f41     179.5   8.75   44.875      0\n",
       "11     669d9     263.5  11.97   65.875      0\n",
       "12     e2f5b     241.5  11.99   60.375      0\n",
       "13     105c4     654.0  12.55  163.500      0\n",
       "14     c1e43     280.0  16.72   70.000      1\n",
       "15     dc213     366.5  17.02   91.625      1\n",
       "16     19ad3     306.0  19.88   76.500      1\n",
       "17     8e0fd     294.5  21.36   73.625      1\n",
       "18     2f92d      83.0  31.34   20.750      1"
      ]
     },
     "execution_count": 11,
     "metadata": {},
     "output_type": "execute_result"
    },
    {
     "data": {
      "image/png": "[encoded data removed]",
      "text/plain": [
       "<Figure size 402.375x360 with 1 Axes>"
      ]
     },
     "metadata": {
      "needs_background": "light"
     },
     "output_type": "display_data"
    }
   ],
   "source": [
    "clusterize(average_df, 2)"
   ]
  },
  {
   "cell_type": "code",
   "execution_count": 12,
   "metadata": {
    "colab": {
     "base_uri": "https://localhost:8080/",
     "height": 610
    },
    "id": "jrjbDM0gEz5q",
    "outputId": "9b4401c0-d202-4f0b-d5c4-b97264e83ed7"
   },
   "outputs": [
    {
     "name": "stderr",
     "output_type": "stream",
     "text": [
      "/tmp/ipykernel_237927/219493551.py:18: SettingWithCopyWarning: \n",
      "A value is trying to be set on a copy of a slice from a DataFrame.\n",
      "Try using .loc[row_indexer,col_indexer] = value instead\n",
      "\n",
      "See the caveats in the documentation: https://pandas.pydata.org/pandas-docs/stable/user_guide/indexing.html#returning-a-view-versus-a-copy\n",
      "  ddf[\"day\"] = 1\n"
     ]
    },
    {
     "data": {
      "image/png": "[encoded data removed]",
      "text/plain": [
       "<Figure size 402.375x360 with 1 Axes>"
      ]
     },
     "metadata": {
      "needs_background": "light"
     },
     "output_type": "display_data"
    }
   ],
   "source": [
    "df = clusterize(average_df, 3)"
   ]
  },
  {
   "cell_type": "code",
   "execution_count": 13,
   "metadata": {
    "id": "DG9f_zHeFmUi"
   },
   "outputs": [],
   "source": [
    "import scipy.optimize as opt\n",
    "from scipy.optimize import minimize\n",
    "\n",
    "from scipy.optimize import Bounds\n",
    "from scipy.optimize import minimize_scalar\n"
   ]
  },
  {
   "cell_type": "code",
   "execution_count": 14,
   "metadata": {
    "colab": {
     "base_uri": "https://localhost:8080/",
     "height": 206
    },
    "id": "DxPtDI27N4P8",
    "outputId": "5a6866e0-9fb2-4236-c215-ece337773975"
   },
   "outputs": [
    {
     "data": {
      "text/html": [
       "<div>\n",
       "<style scoped>\n",
       "    .dataframe tbody tr th:only-of-type {\n",
       "        vertical-align: middle;\n",
       "    }\n",
       "\n",
       "    .dataframe tbody tr th {\n",
       "        vertical-align: top;\n",
       "    }\n",
       "\n",
       "    .dataframe thead th {\n",
       "        text-align: right;\n",
       "    }\n",
       "</style>\n",
       "<table border=\"1\" class=\"dataframe\">\n",
       "  <thead>\n",
       "    <tr style=\"text-align: right;\">\n",
       "      <th></th>\n",
       "      <th>Publisher</th>\n",
       "      <th>Installs</th>\n",
       "      <th>LTV</th>\n",
       "      <th>K</th>\n",
       "      <th>label</th>\n",
       "    </tr>\n",
       "  </thead>\n",
       "  <tbody>\n",
       "    <tr>\n",
       "      <th>8</th>\n",
       "      <td>afb54</td>\n",
       "      <td>168.5</td>\n",
       "      <td>7.50</td>\n",
       "      <td>42.125</td>\n",
       "      <td>0</td>\n",
       "    </tr>\n",
       "    <tr>\n",
       "      <th>9</th>\n",
       "      <td>ce762</td>\n",
       "      <td>457.5</td>\n",
       "      <td>7.81</td>\n",
       "      <td>114.375</td>\n",
       "      <td>0</td>\n",
       "    </tr>\n",
       "    <tr>\n",
       "      <th>10</th>\n",
       "      <td>b6f41</td>\n",
       "      <td>179.5</td>\n",
       "      <td>8.75</td>\n",
       "      <td>44.875</td>\n",
       "      <td>0</td>\n",
       "    </tr>\n",
       "    <tr>\n",
       "      <th>11</th>\n",
       "      <td>669d9</td>\n",
       "      <td>263.5</td>\n",
       "      <td>11.97</td>\n",
       "      <td>65.875</td>\n",
       "      <td>0</td>\n",
       "    </tr>\n",
       "    <tr>\n",
       "      <th>12</th>\n",
       "      <td>e2f5b</td>\n",
       "      <td>241.5</td>\n",
       "      <td>11.99</td>\n",
       "      <td>60.375</td>\n",
       "      <td>0</td>\n",
       "    </tr>\n",
       "  </tbody>\n",
       "</table>\n",
       "</div>"
      ],
      "text/plain": [
       "   Publisher  Installs    LTV        K  label\n",
       "8      afb54     168.5   7.50   42.125      0\n",
       "9      ce762     457.5   7.81  114.375      0\n",
       "10     b6f41     179.5   8.75   44.875      0\n",
       "11     669d9     263.5  11.97   65.875      0\n",
       "12     e2f5b     241.5  11.99   60.375      0"
      ]
     },
     "execution_count": 14,
     "metadata": {},
     "output_type": "execute_result"
    }
   ],
   "source": [
    "\n",
    "df_i = df[df[\"label\"] == 0]\n",
    "df_i.head()"
   ]
  },
  {
   "cell_type": "code",
   "execution_count": 15,
   "metadata": {
    "id": "O16OmWQwIDoe"
   },
   "outputs": [],
   "source": [
    "\n",
    "\n",
    "\n",
    "def optimize(x, df_i):\n",
    "  sum = 0\n",
    "  for index, row in df_i.iterrows():\n",
    "    sum = sum + row[\"K\"] * x * (row[\"LTV\"] - x)\n",
    "  return sum\n",
    "\n",
    "def get_cpi_for_clusters(df, num_clusters):\n",
    "  cpi = []\n",
    "  for l in range(num_clusters):\n",
    "    df_i = df[df[\"label\"] == l]\n",
    "    f_label = lambda x: optimize(x, df_i) * -1\n",
    "    res = minimize_scalar(f_label, method='bounded', bounds=(1, 1000))\n",
    "    print(\"Profit\", optimize(res.x, df_i), \"CPI =\", res.x)\n",
    "\n",
    "    cpi.append((res.x, optimize(res.x, df_i)))\n",
    "  return cpi"
   ]
  },
  {
   "cell_type": "code",
   "execution_count": 16,
   "metadata": {
    "id": "QgvjMtYyQt7q"
   },
   "outputs": [],
   "source": [
    "def get_profit(n_clusters):\n",
    "  df_with_clusters = clusterize(average_df, n_clusters)\n",
    "\n",
    "  cpis = get_cpi_for_clusters(df_with_clusters, n_clusters)\n",
    "  total_profit = 0\n",
    "  for i in range(n_clusters):\n",
    "    total_profit = total_profit + cpis[i][1]\n",
    "  print(\"Total profit:\", total_profit)"
   ]
  },
  {
   "cell_type": "code",
   "execution_count": 17,
   "metadata": {
    "colab": {
     "base_uri": "https://localhost:8080/",
     "height": 645
    },
    "id": "KPhhVRbMTQ4p",
    "outputId": "77a1b67d-5fbd-444c-93a2-26b3e197e853"
   },
   "outputs": [
    {
     "name": "stdout",
     "output_type": "stream",
     "text": [
      "Profit 31654.565393601464 CPI = 4.76547574208592\n",
      "Total profit: 31654.565393601464\n"
     ]
    },
    {
     "name": "stderr",
     "output_type": "stream",
     "text": [
      "/tmp/ipykernel_237927/219493551.py:18: SettingWithCopyWarning: \n",
      "A value is trying to be set on a copy of a slice from a DataFrame.\n",
      "Try using .loc[row_indexer,col_indexer] = value instead\n",
      "\n",
      "See the caveats in the documentation: https://pandas.pydata.org/pandas-docs/stable/user_guide/indexing.html#returning-a-view-versus-a-copy\n",
      "  ddf[\"day\"] = 1\n"
     ]
    },
    {
     "data": {
      "image/png": "[encoded data removed]",
      "text/plain": [
       "<Figure size 402.375x360 with 1 Axes>"
      ]
     },
     "metadata": {
      "needs_background": "light"
     },
     "output_type": "display_data"
    }
   ],
   "source": [
    "get_profit(1)"
   ]
  },
  {
   "cell_type": "code",
   "execution_count": 18,
   "metadata": {
    "colab": {
     "base_uri": "https://localhost:8080/",
     "height": 662
    },
    "id": "gLA4l4GbTTTn",
    "outputId": "17e46d46-6be0-43cb-f6db-b676e01b4190"
   },
   "outputs": [
    {
     "name": "stdout",
     "output_type": "stream",
     "text": [
      "Profit 10927.896985586209 CPI = 3.208735131315513\n",
      "Profit 31509.51789485432 CPI = 9.73475563909771\n",
      "Total profit: 42437.41488044053\n"
     ]
    },
    {
     "name": "stderr",
     "output_type": "stream",
     "text": [
      "/tmp/ipykernel_237927/219493551.py:18: SettingWithCopyWarning: \n",
      "A value is trying to be set on a copy of a slice from a DataFrame.\n",
      "Try using .loc[row_indexer,col_indexer] = value instead\n",
      "\n",
      "See the caveats in the documentation: https://pandas.pydata.org/pandas-docs/stable/user_guide/indexing.html#returning-a-view-versus-a-copy\n",
      "  ddf[\"day\"] = 1\n"
     ]
    },
    {
     "data": {
      "image/png": "[encoded data removed]",
      "text/plain": [
       "<Figure size 402.375x360 with 1 Axes>"
      ]
     },
     "metadata": {
      "needs_background": "light"
     },
     "output_type": "display_data"
    }
   ],
   "source": [
    "get_profit(2)"
   ]
  },
  {
   "cell_type": "code",
   "execution_count": 19,
   "metadata": {
    "colab": {
     "base_uri": "https://localhost:8080/",
     "height": 680
    },
    "id": "AX7dINcwS7-f",
    "outputId": "7b3a13d2-1e01-4c98-a079-145647ffb0ba"
   },
   "outputs": [
    {
     "name": "stdout",
     "output_type": "stream",
     "text": [
      "Profit 13586.001493029398 CPI = 5.259564774751862\n",
      "Profit 31509.51789485432 CPI = 9.73475563909771\n",
      "Profit 1186.5274740135906 CPI = 1.442468215694873\n",
      "Total profit: 46282.04686189731\n"
     ]
    },
    {
     "name": "stderr",
     "output_type": "stream",
     "text": [
      "/tmp/ipykernel_237927/219493551.py:18: SettingWithCopyWarning: \n",
      "A value is trying to be set on a copy of a slice from a DataFrame.\n",
      "Try using .loc[row_indexer,col_indexer] = value instead\n",
      "\n",
      "See the caveats in the documentation: https://pandas.pydata.org/pandas-docs/stable/user_guide/indexing.html#returning-a-view-versus-a-copy\n",
      "  ddf[\"day\"] = 1\n"
     ]
    },
    {
     "data": {
      "image/png": "[encoded data removed]",
      "text/plain": [
       "<Figure size 402.375x360 with 1 Axes>"
      ]
     },
     "metadata": {
      "needs_background": "light"
     },
     "output_type": "display_data"
    }
   ],
   "source": [
    "get_profit(3)"
   ]
  },
  {
   "cell_type": "code",
   "execution_count": 20,
   "metadata": {
    "colab": {
     "base_uri": "https://localhost:8080/",
     "height": 624
    },
    "id": "x8PIUOB1PKEY",
    "outputId": "04b65921-f00b-4e94-d1e7-c098b2a0ee45"
   },
   "outputs": [
    {
     "data": {
      "text/plain": [
       "<seaborn.axisgrid.JointGrid at 0x7f54983aeaa0>"
      ]
     },
     "execution_count": 20,
     "metadata": {},
     "output_type": "execute_result"
    },
    {
     "data": {
      "image/png": "[encoded data removed]",
      "text/plain": [
       "<Figure size 432x432 with 3 Axes>"
      ]
     },
     "metadata": {
      "needs_background": "light"
     },
     "output_type": "display_data"
    }
   ],
   "source": [
    "cpi_df = pd.DataFrame({ 'CPI' : range(1, 20),\n",
    "    'profit' : [optimize(i, df_i) for i in range(1, 20)]})\n",
    "\n",
    "sns.jointplot(data=cpi_df)"
   ]
  },
  {
   "cell_type": "code",
   "execution_count": null,
   "metadata": {},
   "outputs": [],
   "source": []
  }
 ],
 "metadata": {
  "colab": {
   "provenance": []
  },
  "kernelspec": {
   "display_name": "Python 3 (ipykernel)",
   "language": "python",
   "name": "python3"
  },
  "language_info": {
   "codemirror_mode": {
    "name": "ipython",
    "version": 3
   },
   "file_extension": ".py",
   "mimetype": "text/x-python",
   "name": "python",
   "nbconvert_exporter": "python",
   "pygments_lexer": "ipython3",
   "version": "3.10.6"
  }
 },
 "nbformat": 4,
 "nbformat_minor": 1
}
